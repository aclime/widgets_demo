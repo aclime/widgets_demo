{
 "cells": [
  {
   "cell_type": "code",
   "execution_count": 1,
   "metadata": {},
   "outputs": [
    {
     "data": {
      "text/plain": [
       "'/Users/austinclime/vs_code_projects/Marks_textbook/widgets_demo'"
      ]
     },
     "execution_count": 1,
     "metadata": {},
     "output_type": "execute_result"
    }
   ],
   "source": [
    "import os\n",
    "os.getcwd()"
   ]
  },
  {
   "cell_type": "code",
   "execution_count": 1,
   "metadata": {},
   "outputs": [],
   "source": [
    "#import matplotlib as mpl\n",
    "#mpl.rcParams.update(mpl.rcParamsDefault)"
   ]
  },
  {
   "cell_type": "code",
   "execution_count": 1,
   "metadata": {},
   "outputs": [],
   "source": [
    "%matplotlib widget\n",
    "import numpy as np\n",
    "import ipywidgets as widgets\n",
    "import matplotlib.pyplot as plt\n",
    "from scipy import stats\n",
    "from IPython.display import display, HTML\n",
    "from ipywidgets import VBox,HBox, Layout\n",
    "#! pip install latex\n",
    "import latex\n",
    "#plt.rcParams['text.usetex'] = True\n"
   ]
  },
  {
   "cell_type": "code",
   "execution_count": 7,
   "metadata": {},
   "outputs": [
    {
     "ename": "SyntaxError",
     "evalue": "invalid syntax (<ipython-input-7-3056f3186927>, line 37)",
     "output_type": "error",
     "traceback": [
      "\u001b[0;36m  File \u001b[0;32m\"<ipython-input-7-3056f3186927>\"\u001b[0;36m, line \u001b[0;32m37\u001b[0m\n\u001b[0;31m    if 'Put' change['owner']:\u001b[0m\n\u001b[0m             ^\u001b[0m\n\u001b[0;31mSyntaxError\u001b[0m\u001b[0;31m:\u001b[0m invalid syntax\n"
     ]
    }
   ],
   "source": [
    "r = .03  # interest rate\n",
    "sig = .2 # volatility\n",
    "S0 = 100 # Initial Stock Price\n",
    "T = 1 # Maturity\n",
    "\n",
    "def bs_delta(S0, K, r, sig, T, call = True):\n",
    "    d1 = (np.log(S0/K) + (r + sig**2/2) * T)/(sig*np.sqrt(T))\n",
    "    norm = stats.norm\n",
    "    if type(call) == bool:\n",
    "        if call:\n",
    "            return norm.cdf(d1,0,1)\n",
    "        else:\n",
    "            return norm.cdf(-d1,0,1)\n",
    "\n",
    "K = np.linspace(1, 200, 100)\n",
    "fig, ax = plt.subplots()\n",
    "\n",
    "#fig.suptitle('matplotlib.axes.Axes.set_label() function \\ Example\\n', fontweight =\"bold\")\n",
    "fig.set_label('my label')\n",
    "\n",
    "\n",
    "call_delta_plot, = ax.plot(K, bs_delta(S0,K,r,sig,T,True))\n",
    "put_delta_plot, = ax.plot(K, bs_delta(S0,K,r,sig,T,False))\n",
    "\n",
    "ax.title.set_text(r'Black Scholes Delta Over Strike Contiuum')\n",
    "ax.set_xlabel(r'K')\n",
    "ax.set_ylabel(r'$\\Phi(d_1)$')\n",
    "ax.grid(True)\n",
    "\n",
    "def update_maturity(change):\n",
    "    #line.set_ydata(np.sin(change.new * x))\n",
    "    call_delta_plot.set_ydata( bs_delta(S0,K,r,sig,change.new,True) )\n",
    "    put_delta_plot.set_ydata( bs_delta(S0,K,r,sig,change.new,False) )\n",
    "    fig.canvas.draw()\n",
    "\n",
    "def update_display(change):\n",
    "    print(change)\n",
    "    if 'Put' change['owner']:\n",
    "        pass\n",
    "    elif 'Call' in change['owner']:\n",
    "        pass\n",
    "\n",
    "\n",
    "slider = widgets.FloatSlider(value=1,min=0, max=1, step=0.1,description=r'Maturity',continuous_update=False)\n",
    "show_call=widgets.Checkbox(value=True,description='Call',disabled=False)\n",
    "show_put=widgets.Checkbox(value=True,description='Put',disabled=False)\n",
    "\n",
    "slider.observe(update_maturity, 'value')\n",
    "show_call.observe(update_display,'value')\n",
    "show_put.observe(update_display,'value')\n",
    "#display(slider)\n",
    "\n",
    "UI=VBox([\n",
    "    HBox([slider]),\n",
    "    HBox([show_call,show_put])\n",
    "    ])\n",
    "\n",
    "display(UI)"
   ]
  },
  {
   "cell_type": "code",
   "execution_count": 13,
   "metadata": {},
   "outputs": [
    {
     "data": {
      "text/plain": [
       "4"
      ]
     },
     "execution_count": 13,
     "metadata": {},
     "output_type": "execute_result"
    }
   ],
   "source": [
    " plt.gcf().number"
   ]
  }
 ],
 "metadata": {
  "kernelspec": {
   "display_name": "base",
   "language": "python",
   "name": "python3"
  },
  "language_info": {
   "codemirror_mode": {
    "name": "ipython",
    "version": 3
   },
   "file_extension": ".py",
   "mimetype": "text/x-python",
   "name": "python",
   "nbconvert_exporter": "python",
   "pygments_lexer": "ipython3",
   "version": "3.8.5"
  }
 },
 "nbformat": 4,
 "nbformat_minor": 2
}
